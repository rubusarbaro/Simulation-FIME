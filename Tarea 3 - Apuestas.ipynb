{
  "cells": [
    {
      "cell_type": "markdown",
      "metadata": {
        "colab_type": "text",
        "id": "view-in-github"
      },
      "source": [
        "<a href=\"https://colab.research.google.com/github/rubusarbaro/Simulation-FIME/blob/main/Tarea_3.ipynb\" target=\"_parent\"><img src=\"https://colab.research.google.com/assets/colab-badge.svg\" alt=\"Open In Colab\"/></a>"
      ]
    },
    {
      "cell_type": "code",
      "execution_count": 11,
      "metadata": {
        "id": "r1ZBx6_bPOiD"
      },
      "outputs": [],
      "source": [
        "class Jugador :\n",
        "  def __init__(self, saldo_inicial=100.00) :\n",
        "    self.saldo = saldo_inicial\n",
        "    self.rondas = 0\n",
        "\n",
        "  def apostar_estrategia_maximizar(self, probabilidad: float) :\n",
        "    from random import random\n",
        "\n",
        "    if self.saldo <= 0 :\n",
        "      #print(\"Saldo agotado.\")\n",
        "      return False\n",
        "\n",
        "    if random() < probabilidad :\n",
        "      #print(f\"Usted ha ganado {self.saldo} pesos. Su nuevo saldo es: {self.saldo*2} pesos.\")\n",
        "      self.saldo *= 2\n",
        "    else :\n",
        "      self.saldo -= self.saldo\n",
        "      #print(f\"Usted ha perdido. Su nuevo saldo es {self.saldo} pesos.\")\n",
        "\n",
        "    return True\n",
        "\n",
        "  def apostar_estrategia_minimizar(self, probabilidad: float, cantidad_apuesta=50.00) :\n",
        "    from random import random\n",
        "\n",
        "    if self.saldo <= 0 :\n",
        "      #print(\"Saldo agotado.\")\n",
        "      return False\n",
        "\n",
        "    if random() < probabilidad :\n",
        "      self.saldo += cantidad_apuesta\n",
        "      #print(f\"Usted ha ganado {cantidad_apuesta} pesos. Su nuevo saldo es: {self.saldo} pesos.\")\n",
        "    else :\n",
        "      self.saldo -= cantidad_apuesta\n",
        "      #print(f\"Usted ha perdido. Su nuevo saldo es {self.saldo} pesos.\")\n",
        "\n",
        "    return True"
      ]
    },
    {
      "cell_type": "code",
      "execution_count": 14,
      "metadata": {
        "id": "-Mt05pG6sfkr"
      },
      "outputs": [],
      "source": [
        "p = 0.8\n",
        "objetivo = 1000.00"
      ]
    },
    {
      "cell_type": "code",
      "execution_count": 16,
      "metadata": {
        "colab": {
          "base_uri": "https://localhost:8080/"
        },
        "id": "AkUMQW8bMZ3T",
        "outputId": "25563591-6b87-4467-a662-a5f14c00d7ab"
      },
      "outputs": [
        {
          "name": "stdout",
          "output_type": "stream",
          "text": [
            "Probabilidad de ganar: 0.431\n"
          ]
        }
      ],
      "source": [
        "jugador_1 = Jugador() # Juega estrategia de maximizar\n",
        "juegos_1 = 0\n",
        "\n",
        "for i in range(1000) :\n",
        "\n",
        "  while jugador_1.apostar_estrategia_maximizar(p) and jugador_1.saldo < objetivo :\n",
        "    pass\n",
        "\n",
        "  if jugador_1.saldo >= objetivo :\n",
        "    juegos_1 += 1\n",
        "\n",
        "  jugador_1.saldo = 100.00\n",
        "\n",
        "print(f\"Probabilidad de ganar: {juegos_1/1000}\")"
      ]
    },
    {
      "cell_type": "code",
      "execution_count": 17,
      "metadata": {
        "colab": {
          "base_uri": "https://localhost:8080/"
        },
        "id": "hs3i3HsbIUls",
        "outputId": "c1232015-2690-4c4e-93e1-9a122d4a6367"
      },
      "outputs": [
        {
          "name": "stdout",
          "output_type": "stream",
          "text": [
            "Probabilidad de ganar: 0.94\n"
          ]
        }
      ],
      "source": [
        "jugador_2 = Jugador() # Juega estrategia de minimizar\n",
        "juegos_2 = 0\n",
        "\n",
        "for i in range(1000) :\n",
        "\n",
        "  while jugador_2.apostar_estrategia_minimizar(p) and jugador_2.saldo < objetivo :\n",
        "    pass\n",
        "\n",
        "  if jugador_2.saldo >= objetivo :\n",
        "    juegos_2 += 1\n",
        "\n",
        "  jugador_2.saldo = 100.00\n",
        "\n",
        "print(f\"Probabilidad de ganar: {juegos_2/1000}\")"
      ]
    }
  ],
  "metadata": {
    "colab": {
      "authorship_tag": "ABX9TyO+JU2vdWa8wdM1zsWeHibh",
      "include_colab_link": true,
      "provenance": []
    },
    "kernelspec": {
      "display_name": "Python 3",
      "name": "python3"
    },
    "language_info": {
      "codemirror_mode": {
        "name": "ipython",
        "version": 3
      },
      "file_extension": ".py",
      "mimetype": "text/x-python",
      "name": "python",
      "nbconvert_exporter": "python",
      "pygments_lexer": "ipython3",
      "version": "3.11.12"
    }
  },
  "nbformat": 4,
  "nbformat_minor": 0
}
