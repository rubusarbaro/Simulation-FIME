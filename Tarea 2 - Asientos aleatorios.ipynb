{
  "nbformat": 4,
  "nbformat_minor": 0,
  "metadata": {
    "colab": {
      "provenance": [],
      "authorship_tag": "ABX9TyO4u2ol+ykWmvd8neY7LzdF",
      "include_colab_link": true
    },
    "kernelspec": {
      "name": "python3",
      "display_name": "Python 3"
    },
    "language_info": {
      "name": "python"
    }
  },
  "cells": [
    {
      "cell_type": "markdown",
      "metadata": {
        "id": "view-in-github",
        "colab_type": "text"
      },
      "source": [
        "<a href=\"https://colab.research.google.com/github/rubusarbaro/Simulation-FIME/blob/main/Tarea%202%20-%20Asientos%20aleatorios.ipynb\" target=\"_parent\"><img src=\"https://colab.research.google.com/assets/colab-badge.svg\" alt=\"Open In Colab\"/></a>"
      ]
    },
    {
      "cell_type": "code",
      "source": [
        "## Librerías\n",
        "from random import shuffle"
      ],
      "metadata": {
        "id": "CMyBC0O1vpu-"
      },
      "execution_count": 2,
      "outputs": []
    },
    {
      "cell_type": "code",
      "source": [
        "## Parámetros\n",
        "cantidad_personas = 100"
      ],
      "metadata": {
        "id": "vamsi57CvsbH"
      },
      "execution_count": 6,
      "outputs": []
    },
    {
      "cell_type": "code",
      "source": [
        "# Genera grupo de personas\n",
        "personas = [n for n in range(1,cantidad_personas + 1)]\n",
        "\n",
        "asientos_1 = personas.copy()\n",
        "shuffle(asientos_1)\n",
        "asientos_2 = asientos_1.copy()\n",
        "shuffle(asientos_2)"
      ],
      "metadata": {
        "id": "F2GTDR2_v5Tz"
      },
      "execution_count": 62,
      "outputs": []
    },
    {
      "cell_type": "code",
      "source": [
        "counter = 0\n",
        "for i in range(len(personas)):\n",
        "  if asientos_1[i] == asientos_2[i] :\n",
        "    counter += 1"
      ],
      "metadata": {
        "id": "-BXwpcI63ClX"
      },
      "execution_count": 63,
      "outputs": []
    },
    {
      "cell_type": "code",
      "source": [
        "counter"
      ],
      "metadata": {
        "colab": {
          "base_uri": "https://localhost:8080/"
        },
        "id": "48Ha4RAs3t3Z",
        "outputId": "382b6153-30da-4049-d385-03b0ea44cfb6"
      },
      "execution_count": 64,
      "outputs": [
        {
          "output_type": "execute_result",
          "data": {
            "text/plain": [
              "1"
            ]
          },
          "metadata": {},
          "execution_count": 64
        }
      ]
    }
  ]
}