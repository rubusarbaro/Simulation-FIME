{
  "nbformat": 4,
  "nbformat_minor": 0,
  "metadata": {
    "colab": {
      "provenance": [],
      "authorship_tag": "ABX9TyNc2n0eXowhK84JL43qmP+T",
      "include_colab_link": true
    },
    "kernelspec": {
      "name": "python3",
      "display_name": "Python 3"
    },
    "language_info": {
      "name": "python"
    }
  },
  "cells": [
    {
      "cell_type": "markdown",
      "metadata": {
        "id": "view-in-github",
        "colab_type": "text"
      },
      "source": [
        "<a href=\"https://colab.research.google.com/github/rubusarbaro/Simulation-FIME/blob/main/Tarea%202%20-%20Asientos%20aleatorios.ipynb\" target=\"_parent\"><img src=\"https://colab.research.google.com/assets/colab-badge.svg\" alt=\"Open In Colab\"/></a>"
      ]
    },
    {
      "cell_type": "code",
      "source": [
        "def simular_asientos(personas: int, repeticiones: int) :\n",
        "  from random import shuffle\n",
        "  from statistics import mean\n",
        "\n",
        "  lista_personas = [n for n in range(1,personas + 1)]\n",
        "\n",
        "  lista_probabilidades = []\n",
        "\n",
        "  for i in range(repeticiones):\n",
        "    asientos_revueltos = lista_personas.copy()\n",
        "    shuffle(asientos_revueltos)\n",
        "\n",
        "    counter = 0\n",
        "\n",
        "    for j in range(len(lista_personas)):\n",
        "      if asientos_revueltos[j] == lista_personas[j]:\n",
        "        counter += 1\n",
        "\n",
        "    lista_probabilidades.append(counter/personas)\n",
        "\n",
        "  return mean(lista_probabilidades)"
      ],
      "metadata": {
        "id": "2OyZHJ-SJLI2"
      },
      "execution_count": 101,
      "outputs": []
    },
    {
      "cell_type": "code",
      "source": [
        "simular_asientos(100,1000)"
      ],
      "metadata": {
        "colab": {
          "base_uri": "https://localhost:8080/"
        },
        "id": "IoQGTfc1R7_b",
        "outputId": "3ab2696c-3842-4bf5-c5a1-a27965595497"
      },
      "execution_count": 103,
      "outputs": [
        {
          "output_type": "execute_result",
          "data": {
            "text/plain": [
              "0.01001"
            ]
          },
          "metadata": {},
          "execution_count": 103
        }
      ]
    }
  ]
}