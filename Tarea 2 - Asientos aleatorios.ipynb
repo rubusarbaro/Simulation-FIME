{
  "nbformat": 4,
  "nbformat_minor": 0,
  "metadata": {
    "colab": {
      "provenance": [],
      "authorship_tag": "ABX9TyOuncHRcb1St7OGqkjjJSL/",
      "include_colab_link": true
    },
    "kernelspec": {
      "name": "python3",
      "display_name": "Python 3"
    },
    "language_info": {
      "name": "python"
    }
  },
  "cells": [
    {
      "cell_type": "markdown",
      "metadata": {
        "id": "view-in-github",
        "colab_type": "text"
      },
      "source": [
        "<a href=\"https://colab.research.google.com/github/rubusarbaro/Simulation-FIME/blob/main/Tarea%202%20-%20Asientos%20aleatorios.ipynb\" target=\"_parent\"><img src=\"https://colab.research.google.com/assets/colab-badge.svg\" alt=\"Open In Colab\"/></a>"
      ]
    },
    {
      "cell_type": "code",
      "source": [
        "def simular_asientos(personas: int, repeticiones: int) :\n",
        "  from random import shuffle\n",
        "  from statistics import mean\n",
        "\n",
        "  lista_personas = [n for n in range(1,personas + 1)]\n",
        "\n",
        "  lista_probabilidades = []\n",
        "\n",
        "  for i in range(repeticiones):\n",
        "    asientos_1 = lista_personas.copy()\n",
        "    shuffle(asientos_1)\n",
        "    asientos_2 = asientos_1.copy()\n",
        "    shuffle(asientos_2)\n",
        "\n",
        "    counter = 0\n",
        "\n",
        "    if asientos_1 == asientos_2 :\n",
        "      counter += 1\n",
        "\n",
        "    lista_probabilidades.append(counter/personas)\n",
        "\n",
        "  return mean(lista_probabilidades)"
      ],
      "metadata": {
        "id": "2OyZHJ-SJLI2"
      },
      "execution_count": 84,
      "outputs": []
    },
    {
      "cell_type": "code",
      "source": [
        "simular_asientos(100,1000)"
      ],
      "metadata": {
        "id": "IoQGTfc1R7_b",
        "outputId": "899bc501-9397-4f43-ee98-9ad7810364bb",
        "colab": {
          "base_uri": "https://localhost:8080/"
        }
      },
      "execution_count": 98,
      "outputs": [
        {
          "output_type": "execute_result",
          "data": {
            "text/plain": [
              "0.0"
            ]
          },
          "metadata": {},
          "execution_count": 98
        }
      ]
    }
  ]
}