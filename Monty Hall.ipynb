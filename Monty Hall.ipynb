{
  "cells": [
    {
      "cell_type": "code",
      "execution_count": null,
      "id": "0cf8325e",
      "metadata": {
        "id": "0cf8325e"
      },
      "outputs": [],
      "source": [
        "# Importar módulos\n",
        "from random import choice   # Para seleccionar aleatoreamente elementos de una lista.\n",
        "from statistics import mean # Para obtener la media de una lista.\n",
        "\n",
        "\n",
        "# Definición de clases\n",
        "class Puerta:\n",
        "  \"\"\"\n",
        "  Representa una puerta donde detrás puede haber una cabra o un auto.\n",
        "\n",
        "  Atributos\n",
        "  ---------\n",
        "  instances : int\n",
        "    Contador de puertas creadas.\n",
        "  id : int\n",
        "    Identificador de la puerta.\n",
        "  content : str\n",
        "    Contenido de la puerta. Puede ser \"Cabra\" o \"Auto\".\n",
        "  \"\"\"\n",
        "    instances = 0\n",
        "\n",
        "    def __init__(self, content: str):\n",
        "      \"\"\"\n",
        "      Inicia el objeto Puerta.\n",
        "\n",
        "      Parámetros\n",
        "      ----------\n",
        "      content : str\n",
        "        Contenido de la puerta. Puede ser \"Cabra\" o \"Auto\".\n",
        "      \"\"\"\n",
        "        self.id = Puerta.instances + 1  # Número de puerta.\n",
        "        Puerta.instances += 1 # Suma 1 al contador \"instances\".\n",
        "\n",
        "        self.content = content  # \"Cabra\" o \"Auto\"\n",
        "\n",
        "\n",
        "# Código de la simulación\n",
        "average_counter = []  # Lista donde se almacenan las 100 probabilidades.\n",
        "for i in range(100):  # Repite la simulación de la simulación 100 veces.\n",
        "    counter = 0 # Contados de victorias (Autos).\n",
        "\n",
        "    for j in range(1000): # Repite la simulación 1,000 veces.\n",
        "        puertas = [Puerta(\"Cabra\"), Puerta(\"Cabra\"), Puerta(\"Auto\")]  # Lista conteniendo las puertas.\n",
        "        election = choice(puertas)  # Elección inicial de la puerta.\n",
        "\n",
        "        match election.content: # Revisa la elección del participante.\n",
        "            case \"Auto\":  # Si el participante escogió la puerta con el auto, Monty escoje aleatoriamente cualquier puerta con una cabra.\n",
        "                presenter = choice([puerta for puerta in puertas if puerta.content == \"Cabra\"])\n",
        "            case \"Cabra\": # Si el participante escogió una puerta con una cabra, Monty escoje la puerta con la otra cabra.\n",
        "                presenter = [puerta for puerta in puertas if puerta.content == \"Cabra\" and puerta is not election][0]\n",
        "\n",
        "        puertas.remove(presenter) # Elimina la puerta que escogió Monty.\n",
        "        new_election = [puerta for puerta in puertas if puerta is not election][0]  # El participante forzosamente escoje la otra puerta restante.\n",
        "\n",
        "        if new_election.content == \"Auto\":  # Si la otra puerta tiene un auto, suma 1 al contador de victorias.\n",
        "            counter += 1\n",
        "\n",
        "    average_counter.append(counter/1000)  # Almacena la probabilidad en la lista de probabilidades.\n",
        "\n",
        "print(mean(average_counter))  # Muestra la probabilidad promedio."
      ]
    }
  ],
  "metadata": {
    "kernelspec": {
      "display_name": "Python 3",
      "language": "python",
      "name": "python3"
    },
    "language_info": {
      "codemirror_mode": {
        "name": "ipython",
        "version": 3
      },
      "file_extension": ".py",
      "mimetype": "text/x-python",
      "name": "python",
      "nbconvert_exporter": "python",
      "pygments_lexer": "ipython3",
      "version": "3.11.6"
    },
    "colab": {
      "provenance": []
    }
  },
  "nbformat": 4,
  "nbformat_minor": 5
}