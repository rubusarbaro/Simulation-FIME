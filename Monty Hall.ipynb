{
 "cells": [
  {
   "cell_type": "code",
   "execution_count": 41,
   "id": "0cf8325e",
   "metadata": {},
   "outputs": [
    {
     "name": "stdout",
     "output_type": "stream",
     "text": [
      "0.66762\n"
     ]
    }
   ],
   "source": [
    "from random import choice\n",
    "from statistics import mean\n",
    "\n",
    "class Puerta:\n",
    "    instances = 0\n",
    "\n",
    "    def __init__(self, content: str):\n",
    "        self.id = Puerta.instances + 1\n",
    "        Puerta.instances += 1\n",
    "\n",
    "        self.content = content\n",
    "\n",
    "average_counter = []\n",
    "for i in range(100):\n",
    "    counter = 0\n",
    "\n",
    "    for j in range(1000):\n",
    "        puertas = [Puerta(\"Cabra\"), Puerta(\"Cabra\"), Puerta(\"Auto\")]\n",
    "        election = choice(puertas)\n",
    "\n",
    "        match election.content:\n",
    "            case \"Auto\":\n",
    "                presenter = choice([puerta for puerta in puertas if puerta.content == \"Cabra\"])\n",
    "            case \"Cabra\":\n",
    "                presenter = [puerta for puerta in puertas if puerta.content == \"Cabra\" and puerta is not election][0]\n",
    "\n",
    "        puertas.remove(presenter)\n",
    "        new_election = [puerta for puerta in puertas if puerta is not election][0]\n",
    "\n",
    "        if new_election.content == \"Auto\":\n",
    "            counter += 1\n",
    "\n",
    "    average_counter.append(counter/1000)\n",
    "\n",
    "print(mean(average_counter))"
   ]
  }
 ],
 "metadata": {
  "kernelspec": {
   "display_name": "Python 3",
   "language": "python",
   "name": "python3"
  },
  "language_info": {
   "codemirror_mode": {
    "name": "ipython",
    "version": 3
   },
   "file_extension": ".py",
   "mimetype": "text/x-python",
   "name": "python",
   "nbconvert_exporter": "python",
   "pygments_lexer": "ipython3",
   "version": "3.11.6"
  }
 },
 "nbformat": 4,
 "nbformat_minor": 5
}
